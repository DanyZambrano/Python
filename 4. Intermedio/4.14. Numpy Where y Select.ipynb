{
 "cells": [
  {
   "cell_type": "markdown",
   "metadata": {},
   "source": [
    "Where y Select: son instrucciones para filtar basado en una consulta con comandos"
   ]
  },
  {
   "cell_type": "code",
   "execution_count": 1,
   "metadata": {},
   "outputs": [],
   "source": [
    "import numpy as np"
   ]
  },
  {
   "cell_type": "code",
   "execution_count": 2,
   "metadata": {},
   "outputs": [
    {
     "data": {
      "text/plain": [
       "array([53,  5, 10, 26, 62, 57, 41, 24, 47, 42, 35, 15, 68, 13, 56, 16, 12,\n",
       "       45,  1, 23, 47, 68, 59, 65, 43, 19, 10, 11,  8, 21])"
      ]
     },
     "execution_count": 2,
     "metadata": {},
     "output_type": "execute_result"
    }
   ],
   "source": [
    "edad = np.random.randint(0, 70, 30)\n",
    "edad"
   ]
  },
  {
   "cell_type": "markdown",
   "metadata": {},
   "source": [
    "Where: selecciona elementos de un array basado en una condicion"
   ]
  },
  {
   "cell_type": "code",
   "execution_count": 3,
   "metadata": {},
   "outputs": [
    {
     "data": {
      "text/plain": [
       "array(['Edad valida', 'Edad no validad', 'Edad no validad', 'Edad valida',\n",
       "       'Edad valida', 'Edad valida', 'Edad valida', 'Edad valida',\n",
       "       'Edad valida', 'Edad valida', 'Edad valida', 'Edad valida',\n",
       "       'Edad valida', 'Edad valida', 'Edad valida', 'Edad valida',\n",
       "       'Edad valida', 'Edad valida', 'Edad no validad', 'Edad valida',\n",
       "       'Edad valida', 'Edad valida', 'Edad valida', 'Edad valida',\n",
       "       'Edad valida', 'Edad valida', 'Edad no validad', 'Edad valida',\n",
       "       'Edad no validad', 'Edad valida'], dtype='<U15')"
      ]
     },
     "execution_count": 3,
     "metadata": {},
     "output_type": "execute_result"
    }
   ],
   "source": [
    "np.where(\n",
    "    edad > 10,\n",
    "    'Edad valida',\n",
    "    'Edad no validad'\n",
    ")"
   ]
  },
  {
   "cell_type": "code",
   "execution_count": 4,
   "metadata": {},
   "outputs": [
    {
     "data": {
      "text/plain": [
       "array([-96,  20, -83, -81,  42,   1,  94,  31, -60,   0, -89,  32,  13,\n",
       "        12, -64, -97,  96, -19,  94, -93, -62, -85,  92,  44, -17,   7,\n",
       "       -68, -82,  85,  12,  25, -64,  54, -29, -45,  95,  44, -93, -93,\n",
       "        72,   7, -85, -18, -23,  57,  91, -22,  96,  37,  28])"
      ]
     },
     "execution_count": 4,
     "metadata": {},
     "output_type": "execute_result"
    }
   ],
   "source": [
    "Temperatura = np.random.randint(-100, 100, 50)\n",
    "Temperatura"
   ]
  },
  {
   "cell_type": "code",
   "execution_count": 5,
   "metadata": {},
   "outputs": [
    {
     "data": {
      "text/plain": [
       "(array([ 4,  6,  7, 11, 16, 18, 22, 23, 28, 32, 35, 36, 39, 44, 45, 47, 48,\n",
       "        49]),)"
      ]
     },
     "execution_count": 5,
     "metadata": {},
     "output_type": "execute_result"
    }
   ],
   "source": [
    "t_calor = np.where(Temperatura > 27)\n",
    "t_calor"
   ]
  },
  {
   "cell_type": "markdown",
   "metadata": {},
   "source": [
    "Select: se basa en condiciones mas detalladas "
   ]
  },
  {
   "cell_type": "code",
   "execution_count": 6,
   "metadata": {},
   "outputs": [],
   "source": [
    "condiciones = [\n",
    "    (Temperatura < 0),\n",
    "    (Temperatura > 13) | (Temperatura < 17),\n",
    "]\n",
    "\n",
    "opciones = [\n",
    "    \"congelado\",\n",
    "    \"frio\",\n",
    "]"
   ]
  },
  {
   "cell_type": "code",
   "execution_count": 9,
   "metadata": {},
   "outputs": [
    {
     "data": {
      "text/plain": [
       "array(['congelado', 'frio', 'congelado', 'congelado', 'frio', 'frio',\n",
       "       'frio', 'frio', 'congelado', 'frio', 'congelado', 'frio', 'frio',\n",
       "       'frio', 'congelado', 'congelado', 'frio', 'congelado', 'frio',\n",
       "       'congelado', 'congelado', 'congelado', 'frio', 'frio', 'congelado',\n",
       "       'frio', 'congelado', 'congelado', 'frio', 'frio', 'frio',\n",
       "       'congelado', 'frio', 'congelado', 'congelado', 'frio', 'frio',\n",
       "       'congelado', 'congelado', 'frio', 'frio', 'congelado', 'congelado',\n",
       "       'congelado', 'frio', 'frio', 'congelado', 'frio', 'frio', 'frio'],\n",
       "      dtype='<U9')"
      ]
     },
     "execution_count": 9,
     "metadata": {},
     "output_type": "execute_result"
    }
   ],
   "source": [
    "np.select(condiciones, opciones)"
   ]
  }
 ],
 "metadata": {
  "kernelspec": {
   "display_name": "Python 3",
   "language": "python",
   "name": "python3"
  },
  "language_info": {
   "codemirror_mode": {
    "name": "ipython",
    "version": 3
   },
   "file_extension": ".py",
   "mimetype": "text/x-python",
   "name": "python",
   "nbconvert_exporter": "python",
   "pygments_lexer": "ipython3",
   "version": "3.11.7"
  }
 },
 "nbformat": 4,
 "nbformat_minor": 2
}
