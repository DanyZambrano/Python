{
 "cells": [
  {
   "cell_type": "markdown",
   "metadata": {},
   "source": [
    "NaN: Not a Number\n",
    "\n",
    "Hace referencia a un valor vacio, indefinido o que no se puede representar.\n",
    "\n",
    "Se deben tratar los valores NaN antes de trabajar con la data.\n",
    "\n",
    "Cualquier operacion con NaN es un NaN.\n",
    "\n",
    "Si hay valores NaN podria crear un resultado irreal o falso.\n",
    "\n",
    "NaN se puede leer como algo \"missing\", como un placeholder"
   ]
  },
  {
   "cell_type": "code",
   "execution_count": null,
   "metadata": {},
   "outputs": [],
   "source": [
    "import pandas as pd"
   ]
  },
  {
   "cell_type": "code",
   "execution_count": null,
   "metadata": {},
   "outputs": [],
   "source": [
    "serie_prueba = pd.Series([1, 2, 3], index=['vEntrada', 'vSalida', 'VPromedio'], dtype=int)\n",
    "serie_prueba"
   ]
  },
  {
   "cell_type": "code",
   "execution_count": null,
   "metadata": {},
   "outputs": [],
   "source": [
    "serie_prueba.reindex(['VIn', 'VOut', 'VMedio', 'vNeto'])"
   ]
  },
  {
   "cell_type": "code",
   "execution_count": null,
   "metadata": {},
   "outputs": [],
   "source": [
    "serie_nueva = pd.Series([1, 2]).reindex([0, 1, 2])\n",
    "serie_nueva"
   ]
  },
  {
   "cell_type": "code",
   "execution_count": null,
   "metadata": {},
   "outputs": [],
   "source": [
    "serie_nueva = pd.Series([True, False]).reindex([0, 1, 2])\n",
    "serie_nueva"
   ]
  },
  {
   "cell_type": "markdown",
   "metadata": {},
   "source": [
    "None vs NaN\n",
    "\n",
    "NaN se puede usar como valor numerico operacional\n",
    "None no se puede usar como valor numerico operacional\n",
    "\n",
    "NaN pertenece a una clase float\n",
    "None pertenece a una clase NoneType"
   ]
  },
  {
   "cell_type": "markdown",
   "metadata": {},
   "source": [
    "NA: es un valor que representa un valor perdido."
   ]
  },
  {
   "cell_type": "code",
   "execution_count": null,
   "metadata": {},
   "outputs": [],
   "source": [
    "serie = pd.Series([1, 2, None], dtype=\"Int64\")\n",
    "serie"
   ]
  },
  {
   "cell_type": "markdown",
   "metadata": {},
   "source": [
    "modificar los NaN or NA"
   ]
  },
  {
   "cell_type": "code",
   "execution_count": null,
   "metadata": {},
   "outputs": [],
   "source": [
    "serie.fillna(0)"
   ]
  },
  {
   "cell_type": "code",
   "execution_count": null,
   "metadata": {},
   "outputs": [],
   "source": [
    "serie_nueva = pd.Series([True, False]).reindex([0, 1, 2])\n",
    "serie_nueva.fillna(0)"
   ]
  },
  {
   "cell_type": "code",
   "execution_count": null,
   "metadata": {},
   "outputs": [],
   "source": [
    "serie_nueva = pd.Series([True, False]).reindex([0, 1, 2])\n",
    "serie_nueva"
   ]
  },
  {
   "cell_type": "markdown",
   "metadata": {},
   "source": [
    "Drop: elimina cualquier rastro en la serie, dataframe, tables, etc"
   ]
  },
  {
   "cell_type": "code",
   "execution_count": null,
   "metadata": {},
   "outputs": [],
   "source": [
    "serie_nueva.dropna()"
   ]
  },
  {
   "cell_type": "code",
   "execution_count": null,
   "metadata": {},
   "outputs": [],
   "source": [
    "s = pd.Series(['a', 'b', None, 'c', 'd'])\n",
    "s"
   ]
  },
  {
   "cell_type": "code",
   "execution_count": null,
   "metadata": {},
   "outputs": [],
   "source": [
    "s.dropna()"
   ]
  }
 ],
 "metadata": {
  "kernelspec": {
   "display_name": "Python 3",
   "language": "python",
   "name": "python3"
  },
  "language_info": {
   "codemirror_mode": {
    "name": "ipython",
    "version": 3
   },
   "file_extension": ".py",
   "mimetype": "text/x-python",
   "name": "python",
   "nbconvert_exporter": "python",
   "pygments_lexer": "ipython3",
   "version": "3.11.7"
  }
 },
 "nbformat": 4,
 "nbformat_minor": 2
}
